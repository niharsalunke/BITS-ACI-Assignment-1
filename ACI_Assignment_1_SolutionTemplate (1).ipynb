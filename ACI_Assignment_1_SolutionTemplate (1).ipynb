{
 "cells": [
  {
   "cell_type": "markdown",
   "metadata": {
    "id": "MzZ4dJQYF7sH"
   },
   "source": [
    "# Artificial and Computational Intelligence Assignment 1"
   ]
  },
  {
   "cell_type": "markdown",
   "metadata": {
    "id": "Fxb1aE9zF7sK"
   },
   "source": [
    "## Problem solving by Uninformed & Informed Search"
   ]
  },
  {
   "cell_type": "markdown",
   "metadata": {
    "id": "h35jIBbCF7sK"
   },
   "source": [
    "List only the BITS (Name) of active contributors in this assignment:\n",
    "1. ___________________\n",
    "2. __________________\n",
    "3. ____________________\n",
    "4. ___________________\n",
    "5. ___________________"
   ]
  },
  {
   "cell_type": "markdown",
   "metadata": {
    "id": "pt5ygv_zF7sL"
   },
   "source": [
    "Things to follow\n",
    "1.\tUse appropriate data structures to represent the graph and the path using python libraries\n",
    "2.\tProvide proper documentation\n",
    "3.\tFind the path and print it"
   ]
  },
  {
   "cell_type": "markdown",
   "metadata": {
    "id": "wZfop5ElF7sL"
   },
   "source": [
    "Coding begins here"
   ]
  },
  {
   "cell_type": "markdown",
   "metadata": {
    "id": "IL0QDMy3F7sL"
   },
   "source": [
    "### 1.\tDefine the environment in the following block"
   ]
  },
  {
   "cell_type": "markdown",
   "metadata": {
    "id": "RYwJPNLIF7sM"
   },
   "source": [
    "List the PEAS decription of the problem here in this markdown block"
   ]
  },
  {
   "cell_type": "markdown",
   "metadata": {
    "id": "XJ3cHp1IF7sM"
   },
   "source": [
    "Design the agent as PSA Agent(Problem Solving Agent)\n",
    "Clear Initial data structures to define the graph and variable declarations is expected\n",
    "IMPORTATANT: Write distinct code block as below"
   ]
  },
  {
   "cell_type": "code",
   "execution_count": null,
   "metadata": {
    "id": "osp61RsLF7sN"
   },
   "outputs": [],
   "source": [
    "#Code Block : Set Initial State (Must handle dynamic inputs)"
   ]
  },
  {
   "cell_type": "code",
   "execution_count": null,
   "metadata": {
    "id": "XODwoWZ0F7sO"
   },
   "outputs": [],
   "source": [
    "#Code Block : Set the matrix for transition & cost (as relevant for the given problem)"
   ]
  },
  {
   "cell_type": "code",
   "execution_count": 57,
   "metadata": {},
   "outputs": [],
   "source": [
    "class Graph:\n",
    "\n",
    "    def __init__(self, ):\n",
    "        self.start_node = None\n",
    "        self.end_node = None\n",
    "        self.graph_matrix = []\n",
    "        self.nodes_registry = {}\n",
    "        self.paths = []\n",
    "        self.node_counter = 0\n",
    "        self.cost_registry = {}\n",
    "\n",
    "    def print_matrix(self, ):\n",
    "        for row_index, row in enumerate(self.graph_matrix):\n",
    "            # If First Row, then print the column node name before the matrix\n",
    "            if row_index == 0:\n",
    "                print(' / '+' '.join(list(self.nodes_registry.keys())))\n",
    "            for col_index, col in enumerate(row):\n",
    "                # If First Column, then print the row node name beofre the matrix\n",
    "                if col_index == 0:\n",
    "                    print(f' {list(self.nodes_registry.keys())[row_index]} ', end='')\n",
    "                if self.graph_matrix[row_index][col_index] is None:\n",
    "                    #print(f' {nodes_encoding[row_index][col_index][0] * nodes_encoding[row_index][col_index][1]} ')\n",
    "                    print(' - ', end='')\n",
    "                else:\n",
    "                    print(f' {self.graph_matrix[row_index][col_index]}', end='')\n",
    "            print('\\n')\n",
    "\n",
    "    def register_node(self, node_name):\n",
    "        if self.nodes_registry.get(node_name, False) != False:\n",
    "            # Do Nothing as the node is present\n",
    "            pass\n",
    "        else:\n",
    "            self.node_counter+=1\n",
    "            self.nodes_registry[node_name] = self.node_counter\n",
    "        \n",
    "    # Example Input of the Function: \n",
    "    # A, B, 5, 64\n",
    "    # Node1, Node2, Time, Speed\n",
    "    def register_input_cost(self, user_input_string):\n",
    "        params_list = [x.strip() for x in user_input_string.split(',') if x]\n",
    "        # Register nodes to keep track of unique nodes,\n",
    "        # This will be helpful while generating the 2D Matrix\n",
    "        self.register_node(params_list[0])\n",
    "        self.register_node(params_list[1])\n",
    "        \n",
    "        self.cost_registry[f'{params_list[0]}|{params_list[1]}'] = float(params_list[2])*float(params_list[3])\n",
    "        \n",
    "                      \n",
    "    def convert_to_2D_graph(self, ):\n",
    "        # Create a graph of None\n",
    "        # This creates an nxn matrix where n is the number of unique nodes\n",
    "        blank_row = [None]*len(self.nodes_registry.items())\n",
    "        graph = [blank_row.copy() for i in range(len(blank_row))]\n",
    "        \n",
    "        for key, path_cost in self.cost_registry.items():\n",
    "            node_1, node_2 = key.split('|')        \n",
    "            graph[self.nodes_registry[node_1]-1][self.nodes_registry[node_2]-1] = path_cost\n",
    "    \n",
    "        self.graph_matrix = graph\n",
    "      \n",
    "    def register_start_end_node(self, user_input_string):\n",
    "        self.start_node, self.end_node = [x.strip() for x in user_input_string.split(',')]\n",
    "\n",
    "\n",
    "            "
   ]
  },
  {
   "cell_type": "code",
   "execution_count": 61,
   "metadata": {},
   "outputs": [
    {
     "name": "stdout",
     "output_type": "stream",
     "text": [
      "Input: A,B,5,64\n",
      "Input: B,C,3,10\n",
      "Input: -S-\n",
      "Input: A,C\n"
     ]
    }
   ],
   "source": [
    "# Take Input of the graph here\n",
    "\n",
    "# There are threee states:\n",
    "# STAGE 1 (default). Define Input costs State. Example Input: A, B, 5, 64\n",
    "# STAGE 2. Define Start Node, End Node State. Example Input: A, B\n",
    "# 3. End Input State. Example Input: '-E-'\n",
    "# 4. Switch Input State. Example Input: '-S-'\n",
    "\n",
    "graph = Graph()\n",
    "\n",
    "input_states = ['define_input_costs', 'define_start_end_node']\n",
    "INPUT_STATES_COUNT = len(input_states)\n",
    "\n",
    "# Always start with input stage = 0\n",
    "input_stage = 0\n",
    "\n",
    "costs = []\n",
    "\n",
    "while input_stage < INPUT_STATES_COUNT:\n",
    "    user_input = input('Input: ')\n",
    "    # End From taking Any Further Inputs\n",
    "    if user_input == '-E-':\n",
    "        break\n",
    "    # Switch Input State\n",
    "    elif user_input == '-S-':\n",
    "        input_stage +=1\n",
    "        if input_stage >= INPUT_STATES_COUNT:\n",
    "            break\n",
    "        else:\n",
    "            continue\n",
    "    # It means we need to start defining input costs\n",
    "    if input_states[input_stage] == 'define_input_costs':\n",
    "        graph.register_input_cost(user_input)\n",
    "    elif input_states[input_stage] == 'define_start_end_node':\n",
    "        graph.register_start_end_node(user_input)\n",
    "        # Auto increment the stage\n",
    "        input_stage +=1"
   ]
  },
  {
   "cell_type": "code",
   "execution_count": 62,
   "metadata": {},
   "outputs": [
    {
     "name": "stdout",
     "output_type": "stream",
     "text": [
      " / A B C\n",
      " A  -  320.0 - \n",
      "\n",
      " B  -  -  30.0\n",
      "\n",
      " C  -  -  - \n",
      "\n"
     ]
    }
   ],
   "source": [
    "# graph = Graph()\n",
    "# graph.register_input_cost('A,B,5,64')\n",
    "# graph.register_input_cost('B,C,3,10')\n",
    "# graph.register_start_end_node('A,C')\n",
    "\n",
    "# Convert Costs Recorded into a 2D representaton of graph\n",
    "graph.convert_to_2D_graph()\n",
    "graph.print_matrix()"
   ]
  },
  {
   "cell_type": "code",
   "execution_count": null,
   "metadata": {
    "id": "ro24Gaj7F7sO"
   },
   "outputs": [],
   "source": [
    "#Code Block : Write function to design the Transition Model/Successor function. Ideally this would be called while search algorithms are implemented"
   ]
  },
  {
   "cell_type": "code",
   "execution_count": null,
   "metadata": {
    "id": "HIVPhrRWF7sO"
   },
   "outputs": [],
   "source": [
    "#Code block : Write fucntion to handle goal test (Must handle dynamic inputs). Ideally this would be called while search algorithms are implemented"
   ]
  },
  {
   "cell_type": "markdown",
   "metadata": {
    "id": "Z4QwDeX5F7sO"
   },
   "source": [
    "### 2.\tDefinition of Algorithm 1 (Mention the Name of the algorithm here)"
   ]
  },
  {
   "cell_type": "code",
   "execution_count": null,
   "metadata": {
    "id": "zD_EPCHWF7sO"
   },
   "outputs": [],
   "source": [
    "#Code Block : Function for algorithm 1 implementation"
   ]
  },
  {
   "cell_type": "markdown",
   "metadata": {
    "id": "KnbdDl6HF7sO"
   },
   "source": [
    "### 3.\tDefinition of Algorithm 2 (Mention the Name of the algorithm here)"
   ]
  },
  {
   "cell_type": "code",
   "execution_count": null,
   "metadata": {
    "id": "3HYh7-eJF7sP"
   },
   "outputs": [],
   "source": [
    "#Code Block : Function for algorithm 2 implementation"
   ]
  },
  {
   "cell_type": "markdown",
   "metadata": {
    "id": "LEV2XHccF7sP"
   },
   "source": [
    "### DYNAMIC INPUT"
   ]
  },
  {
   "cell_type": "markdown",
   "metadata": {
    "id": "CylYRo_DF7sP"
   },
   "source": [
    "IMPORTANT : Dynamic Input must be got in this section. Display the possible states to choose from:\n",
    "This is applicable for all the relevent problems as mentioned in the question."
   ]
  },
  {
   "cell_type": "code",
   "execution_count": null,
   "metadata": {
    "id": "Q5t1Lc-wF7sP"
   },
   "outputs": [],
   "source": [
    "#Code Block : Function & call to get inputs (start/end state)"
   ]
  },
  {
   "cell_type": "markdown",
   "metadata": {
    "id": "xsfOP81lF7sP"
   },
   "source": [
    "### 4.\tCalling the search algorithms\n",
    "(For bidirectional search in below sections first part can be used as per Hint provided. Under second section other combinations as per Hint or your choice of 2 algorithms can be called .As an analyst suggest suitable approximation in the comparitive analysis section)"
   ]
  },
  {
   "cell_type": "code",
   "execution_count": null,
   "metadata": {
    "id": "Og5zI9thF7sP"
   },
   "outputs": [],
   "source": [
    "#Invoke algorithm 1 (Should Print the solution, path, cost etc., (As mentioned in the problem))"
   ]
  },
  {
   "cell_type": "code",
   "execution_count": null,
   "metadata": {
    "id": "u3MJeA6eF7sP"
   },
   "outputs": [],
   "source": [
    "#Invoke algorithm 2 (Should Print the solution, path, cost etc., (As mentioned in the problem))"
   ]
  },
  {
   "cell_type": "markdown",
   "metadata": {
    "id": "TOU3Rem6F7sQ"
   },
   "source": [
    "### 5.\tComparitive Analysis"
   ]
  },
  {
   "cell_type": "code",
   "execution_count": null,
   "metadata": {
    "id": "HG6fWwiIF7sQ"
   },
   "outputs": [],
   "source": [
    "#Code Block : Print the Time & Space complexity of algorithm 1"
   ]
  },
  {
   "cell_type": "code",
   "execution_count": null,
   "metadata": {
    "id": "xMButLKCF7sQ"
   },
   "outputs": [],
   "source": [
    "#Code Block : Print the Time & Space complexity of algorithm 2"
   ]
  },
  {
   "cell_type": "markdown",
   "metadata": {
    "id": "y2nXwAlsF7sQ"
   },
   "source": [
    "### 6.\tProvide your comparitive analysis or findings in no more than 3 lines in below section"
   ]
  },
  {
   "cell_type": "markdown",
   "metadata": {
    "id": "si483-zoF7sQ"
   },
   "source": [
    "Comparison : _______________________________________________\n",
    "\n",
    "________________________________________________________\n",
    "\n",
    "_________________________________________________________"
   ]
  }
 ],
 "metadata": {
  "colab": {
   "provenance": []
  },
  "kernelspec": {
   "display_name": "Python 3",
   "language": "python",
   "name": "python3"
  },
  "language_info": {
   "codemirror_mode": {
    "name": "ipython",
    "version": 3
   },
   "file_extension": ".py",
   "mimetype": "text/x-python",
   "name": "python",
   "nbconvert_exporter": "python",
   "pygments_lexer": "ipython3",
   "version": "3.7.5"
  }
 },
 "nbformat": 4,
 "nbformat_minor": 1
}
